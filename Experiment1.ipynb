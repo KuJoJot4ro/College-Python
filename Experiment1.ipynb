{
  "nbformat": 4,
  "nbformat_minor": 0,
  "metadata": {
    "colab": {
      "provenance": [],
      "authorship_tag": "ABX9TyP2TpqbxqMN0rqVEJo4kx/2",
      "include_colab_link": true
    },
    "kernelspec": {
      "name": "python3",
      "display_name": "Python 3"
    },
    "language_info": {
      "name": "python"
    }
  },
  "cells": [
    {
      "cell_type": "markdown",
      "metadata": {
        "id": "view-in-github",
        "colab_type": "text"
      },
      "source": [
        "<a href=\"https://colab.research.google.com/github/KuJoJot4ro/College-Python/blob/main/Experiment1.ipynb\" target=\"_parent\"><img src=\"https://colab.research.google.com/assets/colab-badge.svg\" alt=\"Open In Colab\"/></a>"
      ]
    },
    {
      "cell_type": "markdown",
      "source": [
        "# **1. Arithmetic Operators:**"
      ],
      "metadata": {
        "id": "MQCLCUneKFRk"
      }
    },
    {
      "cell_type": "code",
      "execution_count": 1,
      "metadata": {
        "colab": {
          "base_uri": "https://localhost:8080/"
        },
        "collapsed": true,
        "id": "_DgVsaNSJ-ui",
        "outputId": "cab15d52-a736-4e5b-cdfb-eca5d3c9e0ef"
      },
      "outputs": [
        {
          "output_type": "stream",
          "name": "stdout",
          "text": [
            "Arithmetic Operators:\n",
            "Addition(a+b): 15\n",
            "Subtraction(a-b): 5\n",
            "Multiplication(a*b): 50\n",
            "Division(a/b): 2.0\n",
            "Floor Division(a//b): 2\n",
            "Exponentiation(a**b):100000\n",
            "Modulus(a%b): 0\n"
          ]
        }
      ],
      "source": [
        "a=10\n",
        "b=5\n",
        "print(\"Arithmetic Operators:\")\n",
        "print(f\"Addition(a+b): {a+b}\")\n",
        "print(f\"Subtraction(a-b): {a-b}\")\n",
        "print(f\"Multiplication(a*b): {a*b}\")\n",
        "print(f\"Division(a/b): {a/b}\")\n",
        "print(f\"Floor Division(a//b): {a//b}\")\n",
        "print(f\"Exponentiation(a**b):{a**b}\")\n",
        "print(f\"Modulus(a%b): {a%b}\")"
      ]
    },
    {
      "cell_type": "markdown",
      "source": [
        "# **2. Logical Operators:**"
      ],
      "metadata": {
        "id": "jFTjL6mMKtii"
      }
    },
    {
      "cell_type": "code",
      "source": [
        "x=True\n",
        "y=False\n",
        "print(\"Logical Operators:\")\n",
        "print(f\"x and y: {x and y}\")\n",
        "print(f\"x or y: {x or y}\")\n",
        "print(f\"not x: {not x}\")"
      ],
      "metadata": {
        "colab": {
          "base_uri": "https://localhost:8080/"
        },
        "collapsed": true,
        "id": "RxZT-J5aK8ct",
        "outputId": "c7fa0867-bf0b-4c90-c78e-28d7ce538d7b"
      },
      "execution_count": 2,
      "outputs": [
        {
          "output_type": "stream",
          "name": "stdout",
          "text": [
            "Logical Operators:\n",
            "x and y: False\n",
            "x or y: True\n",
            "not x: False\n"
          ]
        }
      ]
    },
    {
      "cell_type": "markdown",
      "source": [
        "# **3. Bitwise Operators:**"
      ],
      "metadata": {
        "id": "SJbuXygjLmjQ"
      }
    },
    {
      "cell_type": "code",
      "source": [
        "m=6\n",
        "n=3\n",
        "print(\"Bitwise Operators:\")\n",
        "print(f\"Bitwise AND(m & n): {m & n}\")\n",
        "print(f\"Bitwise OR(m | n): {m | n}\")\n",
        "print(f\"Bitwise XOR(m ^ n): {m ^ n}\")\n",
        "print(f\"Bitwise NOT(~m): {~m}\")\n",
        "print(f\"Bitwise Left Shift(m<<1): {m<<1}\")\n",
        "print(f\"Bitwise Right Shift(m>>1): {m>>1}\")"
      ],
      "metadata": {
        "colab": {
          "base_uri": "https://localhost:8080/"
        },
        "collapsed": true,
        "id": "noyY-TwtLubl",
        "outputId": "4cd82b76-5e90-402b-c58f-0e82d252779b"
      },
      "execution_count": 3,
      "outputs": [
        {
          "output_type": "stream",
          "name": "stdout",
          "text": [
            "Bitwise Operators:\n",
            "Bitwise AND(m & n): 2\n",
            "Bitwise OR(m | n): 7\n",
            "Bitwise XOR(m ^ n): 5\n",
            "Bitwise NOT(~m): -7\n",
            "Bitwise Left Shift(m<<1): 12\n",
            "Bitwise Right Shift(m>>1): 3\n"
          ]
        }
      ]
    },
    {
      "cell_type": "markdown",
      "source": [
        "# **4. Identity Operators:**"
      ],
      "metadata": {
        "id": "Jxp8TVmwMqq-"
      }
    },
    {
      "cell_type": "code",
      "source": [
        "p=[1,2,3]\n",
        "q=[1,2,3]\n",
        "r=p\n",
        "print(\"Identity Operators:\")\n",
        "print(f\"p is q: {p is q}\")\n",
        "print(f\"p is r: {p is r}\")\n",
        "print(f\"p is not q: {p is not q}\")"
      ],
      "metadata": {
        "colab": {
          "base_uri": "https://localhost:8080/"
        },
        "collapsed": true,
        "id": "wBVmp34XMzS7",
        "outputId": "b1094986-2477-43de-f7bb-de8e3bae7f43"
      },
      "execution_count": 4,
      "outputs": [
        {
          "output_type": "stream",
          "name": "stdout",
          "text": [
            "Identity Operators:\n",
            "p is q: False\n",
            "p is r: True\n",
            "p is not q: True\n"
          ]
        }
      ]
    },
    {
      "cell_type": "markdown",
      "source": [
        "# **5. Write a program to calculate area and perimeter of a square**"
      ],
      "metadata": {
        "id": "105r8N5uNHGA"
      }
    },
    {
      "cell_type": "code",
      "source": [
        "# Program to calculate the area and perimeter of a square\n",
        "\n",
        "# Input: Side length of the square\n",
        "side = float(input(\"Enter the length of the side of the square: \"))\n",
        "\n",
        "# Calculations\n",
        "area = side ** 2  # Area of the square\n",
        "perimeter = 4 * side  # Perimeter of the square\n",
        "\n",
        "# Output results\n",
        "print(f\"Area of the square: {area}\")\n",
        "print(f\"Perimeter of the square: {perimeter}\")\n"
      ],
      "metadata": {
        "colab": {
          "base_uri": "https://localhost:8080/"
        },
        "collapsed": true,
        "id": "I59GEFqJNXuU",
        "outputId": "b37d5259-003e-496e-df53-611a66434c34"
      },
      "execution_count": 5,
      "outputs": [
        {
          "output_type": "stream",
          "name": "stdout",
          "text": [
            "Enter the length of the side of the square: 5\n",
            "Area of the square: 25.0\n",
            "Perimeter of the square: 20.0\n"
          ]
        }
      ]
    },
    {
      "cell_type": "markdown",
      "source": [
        "# **6. Write a program to swap the value of two variables:**"
      ],
      "metadata": {
        "id": "n7nk6kGoNxTH"
      }
    },
    {
      "cell_type": "code",
      "source": [
        "# Program to swap two variables\n",
        "\n",
        "# Input: Values of a and b\n",
        "a = input(\"Enter the value of a: \")\n",
        "b = input(\"Enter the value of b: \")\n",
        "\n",
        "# Swapping\n",
        "a, b = b, a\n",
        "\n",
        "# Output: Swapped values\n",
        "print(f\"After swapping: a = {a}, b = {b}\")"
      ],
      "metadata": {
        "colab": {
          "base_uri": "https://localhost:8080/"
        },
        "collapsed": true,
        "id": "esoMAjXDODhe",
        "outputId": "fcabadb8-81ab-4ca4-a40e-f0f02d8cd8d6"
      },
      "execution_count": 6,
      "outputs": [
        {
          "output_type": "stream",
          "name": "stdout",
          "text": [
            "Enter the value of a: 100\n",
            "Enter the value of b: 200\n",
            "After swapping: a = 200, b = 100\n"
          ]
        }
      ]
    },
    {
      "cell_type": "markdown",
      "source": [
        "# **7. Write a program to check whether the given number is even or odd**"
      ],
      "metadata": {
        "id": "ecYVNge9OXhY"
      }
    },
    {
      "cell_type": "code",
      "source": [
        "# Input a number from the user\n",
        "num = int(input(\"Enter a number: \"))\n",
        "\n",
        "# Check if the number is even or odd\n",
        "if num % 2 == 0:\n",
        "    print(\"The number is even.\")\n",
        "else:\n",
        "    print(\"The number is odd.\")"
      ],
      "metadata": {
        "colab": {
          "base_uri": "https://localhost:8080/"
        },
        "collapsed": true,
        "id": "JNAyStscOnQ8",
        "outputId": "b1f5d7e0-53bd-4089-dd85-354c9e5e53cc"
      },
      "execution_count": 7,
      "outputs": [
        {
          "output_type": "stream",
          "name": "stdout",
          "text": [
            "Enter a number: 2\n",
            "The number is even.\n"
          ]
        }
      ]
    },
    {
      "cell_type": "markdown",
      "source": [
        "# **8. Write a program to find area of a triangle whose sides are given**"
      ],
      "metadata": {
        "id": "B2X3lPTmO2e4"
      }
    },
    {
      "cell_type": "code",
      "source": [
        "# Input the sides of the triangle\n",
        "a = float(input(\"Enter the first side: \"))\n",
        "b = float(input(\"Enter the second side: \"))\n",
        "c = float(input(\"Enter the third side: \"))\n",
        "\n",
        "# Calculate the semi-perimeter\n",
        "s = (a + b + c) / 2\n",
        "\n",
        "# Calculate the area using Heron's formula\n",
        "area = (s * (s - a) * (s - b) * (s - c)) ** 0.5\n",
        "\n",
        "# Print the area\n",
        "print(\"The area of the triangle is:\", area)\n"
      ],
      "metadata": {
        "colab": {
          "base_uri": "https://localhost:8080/"
        },
        "collapsed": true,
        "id": "-jWeRmmOPM-f",
        "outputId": "4bc829a3-7a03-426a-be62-646eee43b331"
      },
      "execution_count": 9,
      "outputs": [
        {
          "output_type": "stream",
          "name": "stdout",
          "text": [
            "Enter the first side: 100\n",
            "Enter the second side: 100\n",
            "Enter the third side: 100\n",
            "The area of the triangle is: 4330.127018922193\n"
          ]
        }
      ]
    }
  ]
}