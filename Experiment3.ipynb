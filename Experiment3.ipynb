{
  "nbformat": 4,
  "nbformat_minor": 0,
  "metadata": {
    "colab": {
      "provenance": [],
      "authorship_tag": "ABX9TyNUZ6ERtXAdAvCmKJx0nW0B",
      "include_colab_link": true
    },
    "kernelspec": {
      "name": "python3",
      "display_name": "Python 3"
    },
    "language_info": {
      "name": "python"
    }
  },
  "cells": [
    {
      "cell_type": "markdown",
      "metadata": {
        "id": "view-in-github",
        "colab_type": "text"
      },
      "source": [
        "<a href=\"https://colab.research.google.com/github/KuJoJot4ro/College-Python/blob/main/Experiment3.ipynb\" target=\"_parent\"><img src=\"https://colab.research.google.com/assets/colab-badge.svg\" alt=\"Open In Colab\"/></a>"
      ]
    },
    {
      "cell_type": "markdown",
      "source": [
        "1. Write a python program to reverse a given number"
      ],
      "metadata": {
        "id": "Hn_hbIkDMH1_"
      }
    },
    {
      "cell_type": "code",
      "execution_count": null,
      "metadata": {
        "colab": {
          "base_uri": "https://localhost:8080/"
        },
        "id": "SCm00Zj1MEhx",
        "outputId": "b3af0cc4-0351-4c9c-fe6c-4d5ade1c05bf"
      },
      "outputs": [
        {
          "output_type": "stream",
          "name": "stdout",
          "text": [
            "Enter a number: 12345\n",
            "The reversed number is: 54321\n"
          ]
        }
      ],
      "source": [
        "\n",
        "num = int(input(\"Enter a number: \"))\n",
        "reversed_num = int(str(num)[::-1]) if num >= 0 else -int(str(-num)[::-1])\n",
        "print(f\"The reversed number is: {reversed_num}\")"
      ]
    },
    {
      "cell_type": "markdown",
      "source": [
        "2. Write a python program to print all even numbers between 1 to 100."
      ],
      "metadata": {
        "id": "KnFJJLdKNGvN"
      }
    },
    {
      "cell_type": "code",
      "source": [
        "for num in range(2, 101, 2):\n",
        "    print(num, end=\" \")"
      ],
      "metadata": {
        "colab": {
          "base_uri": "https://localhost:8080/"
        },
        "collapsed": true,
        "id": "R8pWqS53M1fy",
        "outputId": "52962702-d7e5-44b8-c9f4-91d99e3fdf2f"
      },
      "execution_count": null,
      "outputs": [
        {
          "output_type": "stream",
          "name": "stdout",
          "text": [
            "2 4 6 8 10 12 14 16 18 20 22 24 26 28 30 32 34 36 38 40 42 44 46 48 50 52 54 56 58 60 62 64 66 68 70 72 74 76 78 80 82 84 86 88 90 92 94 96 98 100 "
          ]
        }
      ]
    },
    {
      "cell_type": "markdown",
      "source": [
        "3. Print the following pattern."
      ],
      "metadata": {
        "id": "cOcFHQZOOJzS"
      }
    },
    {
      "cell_type": "code",
      "source": [
        "n = 5\n",
        "for i in range(1, n + 1, 2):\n",
        "    print(' ' * ((n - i) // 2), end='')\n",
        "    print('*' * i)\n",
        "for i in range(n - 2, 0, -2):\n",
        "    print(' ' * ((n - i) // 2), end='')\n",
        "    print('*' * i)"
      ],
      "metadata": {
        "colab": {
          "base_uri": "https://localhost:8080/"
        },
        "collapsed": true,
        "id": "G7FPocelOO1s",
        "outputId": "9ce494ab-a34e-4bd8-d7e2-d1051a1edc68"
      },
      "execution_count": null,
      "outputs": [
        {
          "output_type": "stream",
          "name": "stdout",
          "text": [
            "  *\n",
            " ***\n",
            "*****\n",
            " ***\n",
            "  *\n"
          ]
        }
      ]
    }
  ]
}