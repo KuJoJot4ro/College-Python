{
  "nbformat": 4,
  "nbformat_minor": 0,
  "metadata": {
    "colab": {
      "provenance": [],
      "authorship_tag": "ABX9TyPBNvNI9qmJM7IYsIn/GbDw",
      "include_colab_link": true
    },
    "kernelspec": {
      "name": "python3",
      "display_name": "Python 3"
    },
    "language_info": {
      "name": "python"
    }
  },
  "cells": [
    {
      "cell_type": "markdown",
      "metadata": {
        "id": "view-in-github",
        "colab_type": "text"
      },
      "source": [
        "<a href=\"https://colab.research.google.com/github/KuJoJot4ro/College-Python/blob/main/Experiment2.ipynb\" target=\"_parent\"><img src=\"https://colab.research.google.com/assets/colab-badge.svg\" alt=\"Open In Colab\"/></a>"
      ]
    },
    {
      "cell_type": "markdown",
      "source": [
        "# **1. Write a program to check if the input year is leap year or not.**"
      ],
      "metadata": {
        "id": "6u7JQNcvggbA"
      }
    },
    {
      "cell_type": "code",
      "execution_count": null,
      "metadata": {
        "colab": {
          "base_uri": "https://localhost:8080/"
        },
        "collapsed": true,
        "id": "xHhsAkkVgcxH",
        "outputId": "acb8bb64-22ef-4cb4-b6f1-a10cf1870113"
      },
      "outputs": [
        {
          "output_type": "stream",
          "name": "stdout",
          "text": [
            "Enter a year: 2020\n",
            "2020 is a leap year.\n"
          ]
        }
      ],
      "source": [
        "year = int(input(\"Enter a year: \"))\n",
        "if year % 4 == 0 and (year % 100 != 0 or year % 400 == 0):\n",
        "    print(f\"{year} is a leap year.\")\n",
        "else:\n",
        "    print(f\"{year} is not a leap year.\")"
      ]
    },
    {
      "cell_type": "markdown",
      "source": [
        "# **2.Write a program that takes the marks of 5 subjects and displays the grade.**"
      ],
      "metadata": {
        "id": "8-pCtGfAhHgy"
      }
    },
    {
      "cell_type": "code",
      "source": [
        "# Input marks for 5 subjects\n",
        "marks = [float(input(f\"Enter marks for subject {i+1}: \")) for i in range(5)]\n",
        "\n",
        "# Calculate average\n",
        "average = sum(marks) / 5\n",
        "\n",
        "# Determine grade\n",
        "if average >= 90:\n",
        "    grade = \"A+\"\n",
        "elif average >= 80:\n",
        "    grade = \"A\"\n",
        "elif average >= 70:\n",
        "    grade = \"B\"\n",
        "elif average >= 60:\n",
        "    grade = \"C\"\n",
        "elif average >= 50:\n",
        "    grade = \"D\"\n",
        "else:\n",
        "    grade = \"F\"\n",
        "\n",
        "# Display grade\n",
        "print(f\"Grade: {grade}\")\n"
      ],
      "metadata": {
        "colab": {
          "base_uri": "https://localhost:8080/"
        },
        "collapsed": true,
        "id": "UqKdpybOh5zl",
        "outputId": "5fe07624-0b62-4a9d-c2e8-e09ef95ec97c"
      },
      "execution_count": null,
      "outputs": [
        {
          "output_type": "stream",
          "name": "stdout",
          "text": [
            "Enter marks for subject 1: 90\n",
            "Enter marks for subject 2: 99\n",
            "Enter marks for subject 3: 95\n",
            "Enter marks for subject 4: 80\n",
            "Enter marks for subject 5: 75\n",
            "Grade: A\n"
          ]
        }
      ]
    },
    {
      "cell_type": "markdown",
      "source": [
        "# **3. Write a program to find the square root of a number.**"
      ],
      "metadata": {
        "id": "5mThC6sPj-dz"
      }
    },
    {
      "cell_type": "code",
      "source": [
        "import math\n",
        "\n",
        "# Input a number\n",
        "num = float(input(\"Enter a number: \"))\n",
        "\n",
        "# Calculate the square root\n",
        "if num >= 0:\n",
        "    sqrt = math.sqrt(num)\n",
        "    print(f\"The square root of {num} is {sqrt:.2f}\")\n",
        "else:\n",
        "    print(\"Square root of a negative number is not real.\")"
      ],
      "metadata": {
        "colab": {
          "base_uri": "https://localhost:8080/"
        },
        "collapsed": true,
        "id": "HR6andQMkir_",
        "outputId": "7256cb3c-0271-4516-f8c9-5af32bf6ba6d"
      },
      "execution_count": null,
      "outputs": [
        {
          "output_type": "stream",
          "name": "stdout",
          "text": [
            "Enter a number: 4\n",
            "The square root of 4.0 is 2.00\n"
          ]
        }
      ]
    },
    {
      "cell_type": "markdown",
      "source": [
        "# **4. Write a program to check the largest number among three numbers.**"
      ],
      "metadata": {
        "id": "lGRdhAcGl_2E"
      }
    },
    {
      "cell_type": "code",
      "source": [
        "# Input three numbers\n",
        "num1 = float(input(\"Enter the first number: \"))\n",
        "num2 = float(input(\"Enter the second number: \"))\n",
        "num3 = float(input(\"Enter the third number: \"))\n",
        "\n",
        "# Determine the largest number\n",
        "largest = max(num1, num2, num3)\n",
        "\n",
        "# Display the result\n",
        "print(f\"The largest number is: {largest}\")"
      ],
      "metadata": {
        "colab": {
          "base_uri": "https://localhost:8080/"
        },
        "collapsed": true,
        "id": "cklgGgsGmF3M",
        "outputId": "395bc5a1-d511-42cb-8ecc-6d734d4af436"
      },
      "execution_count": null,
      "outputs": [
        {
          "output_type": "stream",
          "name": "stdout",
          "text": [
            "Enter the first number: 10\n",
            "Enter the second number: 50\n",
            "Enter the third number: 100\n",
            "The largest number is: 100.0\n"
          ]
        }
      ]
    },
    {
      "cell_type": "markdown",
      "source": [
        "# **5. Write a program to check if a number is Positive, Negative or Zero.**"
      ],
      "metadata": {
        "id": "t2tB7y8cnGNb"
      }
    },
    {
      "cell_type": "code",
      "source": [
        "# Input a number\n",
        "num = float(input(\"Enter a number: \"))\n",
        "\n",
        "# Check the number type\n",
        "if num > 0:\n",
        "    print(\"The number is Positive.\")\n",
        "elif num < 0:\n",
        "    print(\"The number is Negative.\")\n",
        "else:\n",
        "    print(\"The number is Zero.\")"
      ],
      "metadata": {
        "colab": {
          "base_uri": "https://localhost:8080/"
        },
        "collapsed": true,
        "id": "MXmX3kNDniiV",
        "outputId": "97fb3acf-178a-4f4b-bf4c-b726b5cc0499"
      },
      "execution_count": null,
      "outputs": [
        {
          "output_type": "stream",
          "name": "stdout",
          "text": [
            "Enter a number: 10\n",
            "The number is Positive.\n"
          ]
        }
      ]
    }
  ]
}