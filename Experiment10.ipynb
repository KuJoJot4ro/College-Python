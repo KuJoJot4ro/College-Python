{
  "nbformat": 4,
  "nbformat_minor": 0,
  "metadata": {
    "colab": {
      "provenance": [],
      "authorship_tag": "ABX9TyM/A4bIje7QLxs6LQWicMVh",
      "include_colab_link": true
    },
    "kernelspec": {
      "name": "python3",
      "display_name": "Python 3"
    },
    "language_info": {
      "name": "python"
    }
  },
  "cells": [
    {
      "cell_type": "markdown",
      "metadata": {
        "id": "view-in-github",
        "colab_type": "text"
      },
      "source": [
        "<a href=\"https://colab.research.google.com/github/KuJoJot4ro/College-Python/blob/main/Experiment10.ipynb\" target=\"_parent\"><img src=\"https://colab.research.google.com/assets/colab-badge.svg\" alt=\"Open In Colab\"/></a>"
      ]
    },
    {
      "cell_type": "code",
      "execution_count": null,
      "metadata": {
        "colab": {
          "base_uri": "https://localhost:8080/"
        },
        "id": "J6hfmjtbuGM3",
        "outputId": "1792a3d4-23ac-4b1a-f22c-2c1520afed21"
      },
      "outputs": [
        {
          "output_type": "stream",
          "name": "stdout",
          "text": [
            "      Name  Age         City\n",
            "0    Alice   25     New York\n",
            "1      Bob   30  Los Angeles\n",
            "2  Charlie   35      Chicago\n",
            "Array 1: [1 2 3]\n",
            "Array 2: [4 5 6]\n",
            "Result (Addition): [5 7 9]\n",
            "Predicted Score: 7.999999999999999\n"
          ]
        }
      ],
      "source": [
        "\n",
        "\n",
        "#Pandas: Working with DataFrames\n",
        "#Pandas is used for data manipulation and analysis. Here's an example of creating and displaying a DataFrame:\n",
        "\n",
        "\n",
        "import pandas as pd\n",
        "\n",
        "# Create a dictionary of data\n",
        "data = {\n",
        "    \"Name\": [\"Alice\", \"Bob\", \"Charlie\"],\n",
        "    \"Age\": [25, 30, 35],\n",
        "    \"City\": [\"New York\", \"Los Angeles\", \"Chicago\"]\n",
        "}\n",
        "\n",
        "# Convert the dictionary into a Pandas DataFrame\n",
        "df = pd.DataFrame(data)\n",
        "\n",
        "# Display the DataFrame\n",
        "print(df)\n",
        "\n",
        "#NumPy: Basic Array Operations\n",
        "#NumPy is used for numerical computations. Here's an example of creating an array and performing element-wise operations:\n",
        "\n",
        "\n",
        "import numpy as np\n",
        "\n",
        "# Create two NumPy arrays\n",
        "array1 = np.array([1, 2, 3])\n",
        "array2 = np.array([4, 5, 6])\n",
        "\n",
        "# Perform element-wise addition\n",
        "result = array1 + array2\n",
        "\n",
        "print(\"Array 1:\", array1)\n",
        "print(\"Array 2:\", array2)\n",
        "print(\"Result (Addition):\", result)\n",
        "\n",
        "\"\"\"Scikit-learn: Simple Linear Regression\n",
        "Scikit-learn is used for machine learning tasks. Linear regression is an analytics procedure that can generate predictions by using an easily interpreted mathematical formula . Here's an example of fitting a linear regression model:\n",
        "\"\"\"\n",
        "\n",
        "from sklearn.linear_model import LinearRegression\n",
        "\n",
        "# Example data (features and target)\n",
        "X = [[1], [2], [3]]   # Features (e.g., hours studied)\n",
        "y = [2, 4, 6]         # Target (e.g., scores)\n",
        "\n",
        "# Create and train the model\n",
        "model = LinearRegression()\n",
        "model.fit(X, y)\n",
        "\n",
        "# Predict a new value\n",
        "predicted = model.predict([[4]])  # Predict score for studying 4 hours\n",
        "\n",
        "print(\"Predicted Score:\", predicted[0])"
      ]
    }
  ]
}