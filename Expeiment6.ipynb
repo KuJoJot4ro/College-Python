{
  "nbformat": 4,
  "nbformat_minor": 0,
  "metadata": {
    "colab": {
      "provenance": [],
      "authorship_tag": "ABX9TyNj+etSsnxTfU3ZNmATfN1d",
      "include_colab_link": true
    },
    "kernelspec": {
      "name": "python3",
      "display_name": "Python 3"
    },
    "language_info": {
      "name": "python"
    }
  },
  "cells": [
    {
      "cell_type": "markdown",
      "metadata": {
        "id": "view-in-github",
        "colab_type": "text"
      },
      "source": [
        "<a href=\"https://colab.research.google.com/github/KuJoJot4ro/College-Python/blob/main/Expeiment6.ipynb\" target=\"_parent\"><img src=\"https://colab.research.google.com/assets/colab-badge.svg\" alt=\"Open In Colab\"/></a>"
      ]
    },
    {
      "cell_type": "markdown",
      "source": [
        "# **1. Write Python program to perform the following operation on Dictionary.Create Dictionary, Access Dictionary, Update Dictionary, Delete Dictionary. Write a Python program to concatenate dictionaries to create a new one.Write a Python program to print all unique values in a dictionary.**\n"
      ],
      "metadata": {
        "id": "2110xeERCJab"
      }
    },
    {
      "cell_type": "code",
      "execution_count": 1,
      "metadata": {
        "colab": {
          "base_uri": "https://localhost:8080/"
        },
        "collapsed": true,
        "id": "u1MpO_CLCGF4",
        "outputId": "d407d6c9-f155-4007-bfba-6609db9deaf6"
      },
      "outputs": [
        {
          "output_type": "stream",
          "name": "stdout",
          "text": [
            "Created Dictionary: {'name': 'Alice', 'age': 25, 'city': 'New York'}\n",
            "Accessing Elements:\n",
            "Name: Alice\n",
            "Age: 25\n",
            "Updated Dictionary: {'name': 'Alice', 'age': 26, 'city': 'New York'}\n",
            "Dictionary after adding new key: {'name': 'Alice', 'age': 26, 'city': 'New York', 'profession': 'Engineer'}\n",
            "Dictionary after deletion: {'name': 'Alice', 'age': 26, 'profession': 'Engineer'}\n",
            "Dictionary after clearing: {}\n",
            "Concatenated Dictionary: {'A': 1, 'B': 2, 'C': 3, 'D': 4}\n",
            "Unique Values in Dictionary: {10, 20, 30}\n"
          ]
        }
      ],
      "source": [
        "dict1 = {'name': 'Alice', 'age': 25, 'city': 'New York'}\n",
        "print(\"Created Dictionary:\", dict1)\n",
        "print(\"Accessing Elements:\")\n",
        "print(\"Name:\", dict1['name'])\n",
        "print(\"Age:\", dict1.get('age'))\n",
        "dict1['age'] = 26\n",
        "print(\"Updated Dictionary:\", dict1)\n",
        "dict1['profession'] = 'Engineer'\n",
        "print(\"Dictionary after adding new key:\", dict1)\n",
        "del dict1['city']\n",
        "print(\"Dictionary after deletion:\", dict1)\n",
        "dict1.clear()\n",
        "print(\"Dictionary after clearing:\", dict1)\n",
        "dict2 = {'A': 1, 'B': 2}\n",
        "dict3 = {'C': 3, 'D': 4}\n",
        "concatenated_dict = {**dict2, **dict3}\n",
        "print(\"Concatenated Dictionary:\", concatenated_dict)\n",
        "dict4 = {'x': 10, 'y': 20, 'z': 10, 'w': 30}\n",
        "unique_values = set(dict4.values())\n",
        "print(\"Unique Values in Dictionary:\", unique_values)"
      ]
    },
    {
      "cell_type": "markdown",
      "source": [
        "# **2. Write a Python program to sum all the items in a dictionary.**"
      ],
      "metadata": {
        "id": "BK6xCgXsC_hx"
      }
    },
    {
      "cell_type": "code",
      "source": [
        "dict1= {'a':5,'b':10,'c':15}\n",
        "total_sum=sum(dict1.values())\n",
        "print(\"Sum of all items in the dictionary:\",total_sum)"
      ],
      "metadata": {
        "colab": {
          "base_uri": "https://localhost:8080/"
        },
        "collapsed": true,
        "id": "m2ihvuRRDNyY",
        "outputId": "a7a0e4df-6b85-452c-d978-511feaf977fc"
      },
      "execution_count": 4,
      "outputs": [
        {
          "output_type": "stream",
          "name": "stdout",
          "text": [
            "Sum of all items in the dictionary: 30\n"
          ]
        }
      ]
    },
    {
      "cell_type": "markdown",
      "source": [
        "# **3. Write a Python program to Delete a list of keys from a dictionary**"
      ],
      "metadata": {
        "id": "Yhf81ia6EI65"
      }
    },
    {
      "cell_type": "code",
      "source": [
        "dict1={'a':5,'b':10,'c':15,'d':20}\n",
        "removed_keys=['a','c']\n",
        "for key in removed_keys:\n",
        "    dict1.pop(key, None)\n",
        "print(\"Dictionary after deleting keys:\", dict1)"
      ],
      "metadata": {
        "colab": {
          "base_uri": "https://localhost:8080/"
        },
        "collapsed": true,
        "id": "-5qs_lpYEPPe",
        "outputId": "ef3815ad-a6cc-4cb6-a9f5-328bcb1fbbc5"
      },
      "execution_count": 5,
      "outputs": [
        {
          "output_type": "stream",
          "name": "stdout",
          "text": [
            "Dictionary after deleting keys: {'b': 10, 'd': 20}\n"
          ]
        }
      ]
    },
    {
      "cell_type": "markdown",
      "source": [
        "# **4. Write a Python script to sort (ascending and descending) a dictionary by value.**"
      ],
      "metadata": {
        "id": "I3jeySIUFHMZ"
      }
    },
    {
      "cell_type": "code",
      "source": [
        "dict1={'a':5,'b':10,'c':15,'d':20}\n",
        "sorted_asc=dict(sorted(dict1.items(),key=lambda item:item[1]))\n",
        "print(\"Dictionary sorted in ascending order:\",sorted_asc)\n",
        "sorted_desc=dict(sorted(dict1.items(),key=lambda item:item[1],reverse=True))\n",
        "print(\"Dictionary sorted in descending order:\",sorted_desc)"
      ],
      "metadata": {
        "colab": {
          "base_uri": "https://localhost:8080/"
        },
        "collapsed": true,
        "id": "Qe6u2eQSFXgg",
        "outputId": "58f56e2d-f221-4b37-a2c7-1f7c651ed898"
      },
      "execution_count": 6,
      "outputs": [
        {
          "output_type": "stream",
          "name": "stdout",
          "text": [
            "Dictionary sorted in ascending order: {'a': 5, 'b': 10, 'c': 15, 'd': 20}\n",
            "Dictionary sorted in descending order: {'d': 20, 'c': 15, 'b': 10, 'a': 5}\n"
          ]
        }
      ]
    },
    {
      "cell_type": "markdown",
      "source": [
        "# **5. Write a Python script to concatenate the following dictionaries to create a new one.a. Sample Dictionary:b. dic1 = {1:10, 2:20}c. dic2 = {3:30, 4:40}d. dic3 = {5:50,6:60}**"
      ],
      "metadata": {
        "id": "wRIYxcX_F8lU"
      }
    },
    {
      "cell_type": "code",
      "source": [
        "dic1 = {1: 10, 2: 20}\n",
        "dic2 = {3: 30, 4: 40}\n",
        "dic3 = {5: 50, 6: 60}\n",
        "concatenated_dict = {**dic1,**dic2,**dic3}\n",
        "print(\"Concatenated Dictionary:\",concatenated_dict)"
      ],
      "metadata": {
        "colab": {
          "base_uri": "https://localhost:8080/"
        },
        "id": "3CkhMk2BGEey",
        "outputId": "9a12c3e3-1433-4079-c198-8ec9e9f8c26b"
      },
      "execution_count": 7,
      "outputs": [
        {
          "output_type": "stream",
          "name": "stdout",
          "text": [
            "Concatenated Dictionary: {1: 10, 2: 20, 3: 30, 4: 40, 5: 50, 6: 60}\n"
          ]
        }
      ]
    },
    {
      "cell_type": "markdown",
      "source": [
        "# **6. Write a Python program to combine two dictionary adding values for commonkeys.a. d1 = {'a': 100, 'b': 200, 'c':300}b. d2 = {'a': 300, 'b': 200, 'd':400}**"
      ],
      "metadata": {
        "id": "t0QMpVfJGQXK"
      }
    },
    {
      "cell_type": "code",
      "source": [
        "d1={'a':100,'b':200,'c':300}\n",
        "d2={'a':300,'b':200,'d':400}\n",
        "d_combined={key: d1.get(key, 0) + d2.get(key, 0) for key in set(d1) | set(d2)}\n",
        "print(\"Combined Dictionary:\",d_combined)"
      ],
      "metadata": {
        "colab": {
          "base_uri": "https://localhost:8080/"
        },
        "id": "D2qHmTm7GlsX",
        "outputId": "3217816b-46d8-4d1c-b85e-343524a0b691"
      },
      "execution_count": 8,
      "outputs": [
        {
          "output_type": "stream",
          "name": "stdout",
          "text": [
            "Combined Dictionary: {'b': 400, 'a': 400, 'c': 300, 'd': 400}\n"
          ]
        }
      ]
    },
    {
      "cell_type": "markdown",
      "source": [
        "# **7. Write a Python program to print all unique values in a dictionary.a. Sample Data: [{\"V\":\"S001\"}, {\"V\": \"S002\"}, {\"VI\": \"S001\"}, {\"VI\": \"S005\"},{\"VII\":\"S005\"}, {\"V\":\"S009\"}, {\"VIII\":\"S007\"}]**"
      ],
      "metadata": {
        "id": "PIR72svgHGIz"
      }
    },
    {
      "cell_type": "code",
      "source": [
        "sample_data=[{\"V\": \"S001\"}, {\"V\": \"S002\"}, {\"VI\": \"S001\"}, {\"VI\": \"S005\"},\n",
        "               {\"VII\": \"S005\"}, {\"V\": \"S009\"}, {\"VIII\": \"S007\"}]\n",
        "unique_values = set(value for d in sample_data for value in d.values())\n",
        "print(\"Unique Values:\", unique_values)"
      ],
      "metadata": {
        "colab": {
          "base_uri": "https://localhost:8080/"
        },
        "collapsed": true,
        "id": "2SdclhMWHNbg",
        "outputId": "c0e50523-dc85-4092-a768-700a7bdafd69"
      },
      "execution_count": 9,
      "outputs": [
        {
          "output_type": "stream",
          "name": "stdout",
          "text": [
            "Unique Values: {'S007', 'S002', 'S005', 'S001', 'S009'}\n"
          ]
        }
      ]
    },
    {
      "cell_type": "markdown",
      "source": [
        "# **8. Write a Python program to find the highest 3 values in a dictionary.**"
      ],
      "metadata": {
        "id": "lWqmEr4MHfOr"
      }
    },
    {
      "cell_type": "code",
      "source": [
        "dict1={'a':10,'b':50,'c':30,'d':70,'e':90,'f':20}\n",
        "top_3_values=sorted(dict1.values(),reverse=True)[:3]\n",
        "print(\"Highest 3 values:\",top_3_values)"
      ],
      "metadata": {
        "colab": {
          "base_uri": "https://localhost:8080/"
        },
        "collapsed": true,
        "id": "nBvoY465HqK2",
        "outputId": "862938d6-ca34-4925-9901-abcb0f194a6d"
      },
      "execution_count": 10,
      "outputs": [
        {
          "output_type": "stream",
          "name": "stdout",
          "text": [
            "Highest 3 values: [90, 70, 50]\n"
          ]
        }
      ]
    }
  ]
}