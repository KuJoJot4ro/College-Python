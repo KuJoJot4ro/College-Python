{
  "nbformat": 4,
  "nbformat_minor": 0,
  "metadata": {
    "colab": {
      "provenance": [],
      "authorship_tag": "ABX9TyNutKslyKs74cBrr47yvaDj",
      "include_colab_link": true
    },
    "kernelspec": {
      "name": "python3",
      "display_name": "Python 3"
    },
    "language_info": {
      "name": "python"
    }
  },
  "cells": [
    {
      "cell_type": "markdown",
      "metadata": {
        "id": "view-in-github",
        "colab_type": "text"
      },
      "source": [
        "<a href=\"https://colab.research.google.com/github/KuJoJot4ro/College-Python/blob/main/Expereiment7.ipynb\" target=\"_parent\"><img src=\"https://colab.research.google.com/assets/colab-badge.svg\" alt=\"Open In Colab\"/></a>"
      ]
    },
    {
      "cell_type": "markdown",
      "source": [
        "# **1. Write a Python program to perform the following operation on Sets.Create Set, Access Set, Update Set, Delete SetWrite a Python program to perform following operations on set: intersection of sets, union of sets, set difference, symmetric difference, clear a set.Python program to create a set, add member(s) in a set and remove one item from the set.**"
      ],
      "metadata": {
        "id": "NDCnzGFVJt3n"
      }
    },
    {
      "cell_type": "code",
      "execution_count": 1,
      "metadata": {
        "colab": {
          "base_uri": "https://localhost:8080/"
        },
        "collapsed": true,
        "id": "m2lxvStqIXDD",
        "outputId": "06afbaa3-de4b-42bf-ff88-98608e15e0a9"
      },
      "outputs": [
        {
          "output_type": "stream",
          "name": "stdout",
          "text": [
            "Created Set: {1, 2, 3, 4, 5}\n",
            "Accessing Set Elements:\n",
            "1\n",
            "2\n",
            "3\n",
            "4\n",
            "5\n",
            "Updated Set: {1, 2, 3, 4, 5, 6, 7, 8, 9}\n",
            "Set after deletion: {1, 2, 4, 5, 6, 7, 8, 9}\n",
            "Intersection: {4, 5, 6, 7, 8}\n",
            "Union: {1, 2, 4, 5, 6, 7, 8, 9}\n",
            "Set Difference: {1, 2, 9}\n",
            "Symmetric Difference: {1, 2, 9}\n",
            "Set after clearing: set()\n",
            "Final Set: {'orange', 'grape', 'cherry', 'apple', 'mango'}\n"
          ]
        }
      ],
      "source": [
        "set1 = {1, 2, 3, 4, 5}\n",
        "print(\"Created Set:\", set1)\n",
        "print(\"Accessing Set Elements:\")\n",
        "for item in set1:\n",
        "    print(item)\n",
        "set1.add(6)\n",
        "set1.update([7, 8, 9])\n",
        "print(\"Updated Set:\", set1)\n",
        "set1.remove(3)\n",
        "set1.discard(10)\n",
        "print(\"Set after deletion:\", set1)\n",
        "set2 = {4, 5, 6, 7, 8}\n",
        "print(\"Intersection:\", set1 & set2)\n",
        "print(\"Union:\", set1 | set2)\n",
        "print(\"Set Difference:\", set1 - set2)\n",
        "print(\"Symmetric Difference:\", set1 ^ set2)\n",
        "set1.clear()\n",
        "print(\"Set after clearing:\", set1)\n",
        "set3 = {\"apple\", \"banana\", \"cherry\"}\n",
        "set3.add(\"orange\")\n",
        "set3.update([\"grape\", \"mango\"])\n",
        "set3.remove(\"banana\")\n",
        "print(\"Final Set:\", set3)"
      ]
    },
    {
      "cell_type": "markdown",
      "source": [
        "# **2. Write a Python program to find the elements in a given set that are not in another set**"
      ],
      "metadata": {
        "id": "MV85P7k6MOpu"
      }
    },
    {
      "cell_type": "code",
      "source": [
        "set1={1,2,3,4,5,6}\n",
        "set2={4,5,6,7,8,9}\n",
        "difference = set1 - set2\n",
        "print(\"Elements in set1 but not in set2:\",difference)"
      ],
      "metadata": {
        "colab": {
          "base_uri": "https://localhost:8080/"
        },
        "collapsed": true,
        "id": "2T3JDaLFMSoz",
        "outputId": "eef5a5c4-5ce3-4ff1-a321-52e1427798aa"
      },
      "execution_count": 2,
      "outputs": [
        {
          "output_type": "stream",
          "name": "stdout",
          "text": [
            "Elements in set1 but not in set2: {1, 2, 3}\n"
          ]
        }
      ]
    },
    {
      "cell_type": "markdown",
      "source": [
        "# **3. Write a Python program to Convert String to Set.**"
      ],
      "metadata": {
        "id": "iyeUYg2rMrp_"
      }
    },
    {
      "cell_type": "code",
      "source": [
        "string1=\"hello world\"\n",
        "set1=set(string1)\n",
        "print(\"Set from String:\",set1)"
      ],
      "metadata": {
        "colab": {
          "base_uri": "https://localhost:8080/"
        },
        "collapsed": true,
        "id": "qfxRsG8UMvzH",
        "outputId": "c0d411ca-13b0-4245-fb08-56cfc59d4231"
      },
      "execution_count": 13,
      "outputs": [
        {
          "output_type": "stream",
          "name": "stdout",
          "text": [
            "Set from String: {'e', ' ', 'h', 'o', 'd', 'l', 'w', 'r'}\n"
          ]
        }
      ]
    },
    {
      "cell_type": "markdown",
      "source": [
        "# **4. Write a Python program to Check if two sets have any elements in common. If yes, display the common elements**"
      ],
      "metadata": {
        "id": "2cAYMRcaNT77"
      }
    },
    {
      "cell_type": "code",
      "source": [
        "set1 = {1, 2, 3, 4, 5}\n",
        "set2 = {4, 5, 6, 7, 8}\n",
        "common_elements = set1 & set2\n",
        "if common_elements:\n",
        "    print(\"Common elements:\",common_elements)\n",
        "else:\n",
        "    print(\"No common elements found.\")"
      ],
      "metadata": {
        "colab": {
          "base_uri": "https://localhost:8080/"
        },
        "collapsed": true,
        "id": "Rb1oPEScNa4N",
        "outputId": "6ea8bbb3-1432-409e-fc30-d42fe2141174"
      },
      "execution_count": 14,
      "outputs": [
        {
          "output_type": "stream",
          "name": "stdout",
          "text": [
            "Common elements: {4, 5}\n"
          ]
        }
      ]
    }
  ]
}