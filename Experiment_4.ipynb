{
  "nbformat": 4,
  "nbformat_minor": 0,
  "metadata": {
    "colab": {
      "provenance": [],
      "authorship_tag": "ABX9TyNyzGwgGrENZgqecCaRKZ2H",
      "include_colab_link": true
    },
    "kernelspec": {
      "name": "python3",
      "display_name": "Python 3"
    },
    "language_info": {
      "name": "python"
    }
  },
  "cells": [
    {
      "cell_type": "markdown",
      "metadata": {
        "id": "view-in-github",
        "colab_type": "text"
      },
      "source": [
        "<a href=\"https://colab.research.google.com/github/KuJoJot4ro/College-Python/blob/main/Experiment_4.ipynb\" target=\"_parent\"><img src=\"https://colab.research.google.com/assets/colab-badge.svg\" alt=\"Open In Colab\"/></a>"
      ]
    },
    {
      "cell_type": "markdown",
      "source": [
        "1. Create list."
      ],
      "metadata": {
        "id": "ztPdMfRCQtU8"
      }
    },
    {
      "cell_type": "code",
      "execution_count": null,
      "metadata": {
        "colab": {
          "base_uri": "https://localhost:8080/"
        },
        "id": "wP-whqrsQn-t",
        "outputId": "e94415f3-3ae4-4c84-a2a1-86d3e3ea4fbf"
      },
      "outputs": [
        {
          "output_type": "stream",
          "name": "stdout",
          "text": [
            "List: [10, 20, 30, 40, 50]\n"
          ]
        }
      ],
      "source": [
        "my_list = [10, 20, 30, 40, 50]\n",
        "print(\"List:\", my_list)  # Output: List: [10, 20, 30, 40, 50]"
      ]
    },
    {
      "cell_type": "markdown",
      "source": [
        "2. Access list"
      ],
      "metadata": {
        "id": "rcrDoyDWRqxe"
      }
    },
    {
      "cell_type": "code",
      "source": [
        "print(\"First item:\", my_list[0])  # Output: First item: 10\n",
        "print(\"Last item:\", my_list[-1])  # Output: Last item: 50\n",
        "print(\"Slice:\", my_list[1:4])     # Output: Slice: [20, 30, 40]"
      ],
      "metadata": {
        "colab": {
          "base_uri": "https://localhost:8080/"
        },
        "id": "nlpGAqUCRusp",
        "outputId": "e18be47d-e824-4078-ea1e-2708ff6f2bd6"
      },
      "execution_count": null,
      "outputs": [
        {
          "output_type": "stream",
          "name": "stdout",
          "text": [
            "First item: 10\n",
            "Last item: 50\n",
            "Slice: [20, 30, 40]\n"
          ]
        }
      ]
    },
    {
      "cell_type": "markdown",
      "source": [
        "3. Update list."
      ],
      "metadata": {
        "id": "5UlNvgySR7VO"
      }
    },
    {
      "cell_type": "code",
      "source": [
        "my_list.append(60)\n",
        "print(\"After append:\", my_list)  # Output: After append: [10, 20, 30, 40, 50, 60]\n",
        "\n",
        "my_list.insert(2, 25)\n",
        "print(\"After insert:\", my_list)  # Output: After insert: [10, 20, 25, 30, 40, 50, 60]"
      ],
      "metadata": {
        "colab": {
          "base_uri": "https://localhost:8080/"
        },
        "id": "gz7Q8DU6SHEr",
        "outputId": "c7e39891-f9ae-4a43-cf60-f81e4306027b"
      },
      "execution_count": null,
      "outputs": [
        {
          "output_type": "stream",
          "name": "stdout",
          "text": [
            "After append: [10, 20, 30, 40, 50, 60]\n",
            "After insert: [10, 20, 25, 30, 40, 50, 60]\n"
          ]
        }
      ]
    },
    {
      "cell_type": "markdown",
      "source": [
        "4. Delete list"
      ],
      "metadata": {
        "id": "kbEa2mN0SQVw"
      }
    },
    {
      "cell_type": "code",
      "source": [
        "my_list = [10, 20, 30]\n",
        "del my_list\n",
        "# Trying to access my_list now will raise an error since it has been deleted."
      ],
      "metadata": {
        "id": "a15jh2zPSUCy"
      },
      "execution_count": null,
      "outputs": []
    },
    {
      "cell_type": "markdown",
      "source": [
        "5. Write a Python program to select the even items of a list."
      ],
      "metadata": {
        "id": "R1LecQV8SkF8"
      }
    },
    {
      "cell_type": "code",
      "source": [
        "# Input list\n",
        "my_list = [1, 2, 3, 4, 5, 6, 7, 8, 9, 10]\n",
        "\n",
        "# Select even items using list comprehension\n",
        "even_items = [item for item in my_list if item % 2 == 0]\n",
        "\n",
        "# Output the result\n",
        "print(\"Even items:\", even_items)"
      ],
      "metadata": {
        "colab": {
          "base_uri": "https://localhost:8080/"
        },
        "id": "LWuHF0W4SyHq",
        "outputId": "e74bf01c-2cb6-4887-9345-1ef583f60f96"
      },
      "execution_count": null,
      "outputs": [
        {
          "output_type": "stream",
          "name": "stdout",
          "text": [
            "Even items: [2, 4, 6, 8, 10]\n"
          ]
        }
      ]
    },
    {
      "cell_type": "markdown",
      "source": [
        "6. Write a python program to find common items in two lists"
      ],
      "metadata": {
        "id": "QhmKGcT9S2Tf"
      }
    },
    {
      "cell_type": "code",
      "source": [
        "# Input lists\n",
        "list1 = [1, 2, 3, 4, 5]\n",
        "list2 = [4, 5, 6, 7, 8]\n",
        "\n",
        "# Find common items using list comprehension\n",
        "common_items = [item for item in list1 if item in list2]\n",
        "\n",
        "# Output the result\n",
        "print(\"Common items:\", common_items)"
      ],
      "metadata": {
        "colab": {
          "base_uri": "https://localhost:8080/"
        },
        "id": "7SUfBqamS89_",
        "outputId": "e137cbf7-0fe0-48eb-c6a3-d1b7400ab6a0"
      },
      "execution_count": null,
      "outputs": [
        {
          "output_type": "stream",
          "name": "stdout",
          "text": [
            "Common items: [4, 5]\n"
          ]
        }
      ]
    },
    {
      "cell_type": "markdown",
      "source": [
        "7. Python program to interchange first and last elements in a list."
      ],
      "metadata": {
        "id": "Z1a0oO50TSlz"
      }
    },
    {
      "cell_type": "code",
      "source": [
        "# Function to interchange first and last elements\n",
        "def interchange_first_last(lst):\n",
        "    if len(lst) > 1:\n",
        "        lst[0], lst[-1] = lst[-1], lst[0]\n",
        "    return lst\n",
        "\n",
        "# Input list\n",
        "my_list = [1, 2, 3, 4, 5]\n",
        "\n",
        "# Call the function and print the result\n",
        "result = interchange_first_last(my_list)\n",
        "print(\"List after interchange:\", result)"
      ],
      "metadata": {
        "id": "UZA2cT-mTW7w",
        "outputId": "6930ab28-f5f6-4b88-bc59-02443ae33703",
        "colab": {
          "base_uri": "https://localhost:8080/"
        }
      },
      "execution_count": null,
      "outputs": [
        {
          "output_type": "stream",
          "name": "stdout",
          "text": [
            "List after interchange: [5, 2, 3, 4, 1]\n"
          ]
        }
      ]
    }
  ]
}