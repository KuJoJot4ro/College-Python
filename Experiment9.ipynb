{
  "nbformat": 4,
  "nbformat_minor": 0,
  "metadata": {
    "colab": {
      "provenance": [],
      "authorship_tag": "ABX9TyOEvdiQQr7pk/G4wVCRsQiF",
      "include_colab_link": true
    },
    "kernelspec": {
      "name": "python3",
      "display_name": "Python 3"
    },
    "language_info": {
      "name": "python"
    }
  },
  "cells": [
    {
      "cell_type": "markdown",
      "metadata": {
        "id": "view-in-github",
        "colab_type": "text"
      },
      "source": [
        "<a href=\"https://colab.research.google.com/github/KuJoJot4ro/College-Python/blob/main/Experiment9.ipynb\" target=\"_parent\"><img src=\"https://colab.research.google.com/assets/colab-badge.svg\" alt=\"Open In Colab\"/></a>"
      ]
    },
    {
      "cell_type": "code",
      "execution_count": 1,
      "metadata": {
        "colab": {
          "base_uri": "https://localhost:8080/"
        },
        "id": "qG9SiltZXouJ",
        "outputId": "1b82711e-b635-417d-c3b7-c2eedfb1f8d3"
      },
      "outputs": [
        {
          "output_type": "stream",
          "name": "stdout",
          "text": [
            "Name: Maya\n",
            "Roll Number: 39\n",
            "Branch: CSE\n",
            "Year: SY\n"
          ]
        }
      ],
      "source": [
        "# Parent class\n",
        "class College:\n",
        "    def __init__(self, branch, year):\n",
        "        self.branch = branch\n",
        "        self.year = year\n",
        "\n",
        "    def putData(self):\n",
        "        print(f\"Branch: {self.branch}\")\n",
        "        print(f\"Year: {self.year}\")\n",
        "\n",
        "# Child class\n",
        "class Student(College):\n",
        "    def __init__(self, branch, year, name, roll_no):\n",
        "        super().__init__(branch, year)\n",
        "        self.name = name\n",
        "        self.roll_no = roll_no\n",
        "\n",
        "    def putInfo(self):\n",
        "        print(f\"Name: {self.name}\")\n",
        "        print(f\"Roll Number: {self.roll_no}\")\n",
        "        self.putData()\n",
        "\n",
        "# Create object\n",
        "student1 = Student(branch=\"CSE\", year=\"SY\", name=\"Maya\", roll_no=\"39\")\n",
        "student1.putInfo()\n"
      ]
    },
    {
      "cell_type": "code",
      "source": [
        "# First base class\n",
        "class Father:\n",
        "    def skills(self):\n",
        "        print(\"Father: Gardening, Carpentry\")\n",
        "\n",
        "# Second base class\n",
        "class Mother:\n",
        "    def skills(self):\n",
        "        print(\"Mother: Cooking, Painting\")\n",
        "\n",
        "# Derived class from both\n",
        "class Child(Father, Mother):\n",
        "    def skills(self):\n",
        "        print(\"Child inherits skills from both parents:\")\n",
        "        Father.skills(self)\n",
        "        Mother.skills(self)\n",
        "\n",
        "# Create object\n",
        "child = Child()\n",
        "child.skills()"
      ],
      "metadata": {
        "colab": {
          "base_uri": "https://localhost:8080/"
        },
        "id": "nnQZEzmH7_aT",
        "outputId": "46d88caf-cebd-4f3c-ef6a-6e772e9b9ba1"
      },
      "execution_count": 2,
      "outputs": [
        {
          "output_type": "stream",
          "name": "stdout",
          "text": [
            "Child inherits skills from both parents:\n",
            "Father: Gardening, Carpentry\n",
            "Mother: Cooking, Painting\n"
          ]
        }
      ]
    },
    {
      "cell_type": "code",
      "source": [
        "# Base class\n",
        "class Animal:\n",
        "    def sound(self):\n",
        "        print(\"Animals make sounds\")\n",
        "\n",
        "# Derived class from Animal\n",
        "class Dog(Animal):\n",
        "    def bark(self):\n",
        "        print(\"Dog barks\")\n",
        "\n",
        "# Derived class from Dog\n",
        "class Puppy(Dog):\n",
        "    def weep(self):\n",
        "        print(\"Puppy weeps\")\n",
        "\n",
        "# Create object\n",
        "puppy = Puppy()\n",
        "\n",
        "# Call methods from all levels\n",
        "puppy.sound()  # From Animal\n",
        "puppy.bark()   # From Dog\n",
        "puppy.weep()   # From Puppy"
      ],
      "metadata": {
        "colab": {
          "base_uri": "https://localhost:8080/"
        },
        "id": "QEAz9RWd8I2y",
        "outputId": "a09140f0-5d07-4fd4-da00-7ae81757674e"
      },
      "execution_count": 3,
      "outputs": [
        {
          "output_type": "stream",
          "name": "stdout",
          "text": [
            "Animals make sounds\n",
            "Dog barks\n",
            "Puppy weeps\n"
          ]
        }
      ]
    }
  ]
}