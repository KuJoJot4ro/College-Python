{
  "nbformat": 4,
  "nbformat_minor": 0,
  "metadata": {
    "colab": {
      "provenance": [],
      "authorship_tag": "ABX9TyOjwUfDENUjhkKXXNHk9TN1",
      "include_colab_link": true
    },
    "kernelspec": {
      "name": "python3",
      "display_name": "Python 3"
    },
    "language_info": {
      "name": "python"
    }
  },
  "cells": [
    {
      "cell_type": "markdown",
      "metadata": {
        "id": "view-in-github",
        "colab_type": "text"
      },
      "source": [
        "<a href=\"https://colab.research.google.com/github/KuJoJot4ro/College-Python/blob/main/Experiment8.ipynb\" target=\"_parent\"><img src=\"https://colab.research.google.com/assets/colab-badge.svg\" alt=\"Open In Colab\"/></a>"
      ]
    },
    {
      "cell_type": "code",
      "execution_count": null,
      "metadata": {
        "colab": {
          "base_uri": "https://localhost:8080/"
        },
        "id": "SVC5HQ1aliwP",
        "outputId": "b0e05abd-210b-4749-9278-12ebbfa4867d"
      },
      "outputs": [
        {
          "output_type": "stream",
          "name": "stdout",
          "text": [
            "Writing mymodule.py\n"
          ]
        }
      ],
      "source": [
        "%%writefile mymodule.py\n",
        "\n",
        "def greet(name):\n",
        "    return f\"Hello, {name}!\"\n",
        "\n",
        "def add(a, b):\n",
        "    return a + b"
      ]
    },
    {
      "cell_type": "code",
      "source": [
        "import mymodule\n",
        "print(mymodule.greet(\"Alice\"))\n",
        "print(\"Sum:\", mymodule.add(5, 3))"
      ],
      "metadata": {
        "colab": {
          "base_uri": "https://localhost:8080/"
        },
        "id": "Onuw6pL1mAfn",
        "outputId": "440bcdbf-7a8b-4905-f025-c949e6860571"
      },
      "execution_count": null,
      "outputs": [
        {
          "output_type": "stream",
          "name": "stdout",
          "text": [
            "Hello, Alice!\n",
            "Sum: 8\n"
          ]
        }
      ]
    },
    {
      "cell_type": "code",
      "source": [
        "def reverse_number(n):\n",
        "    reversed_num = 0\n",
        "    while n > 0:\n",
        "        digit = n % 10\n",
        "        reversed_num = reversed_num * 10 + digit\n",
        "        n = n // 10\n",
        "    return reversed_num\n",
        "\n",
        "# Taking input from the user\n",
        "num = int(input(\"Enter a number: \"))\n",
        "reversed_num = reverse_number(num)\n",
        "\n",
        "print(f\"The reverse of {num} is {reversed_num}\")"
      ],
      "metadata": {
        "colab": {
          "base_uri": "https://localhost:8080/"
        },
        "id": "BYgrTNIe6p7A",
        "outputId": "c408ed8d-2e59-464c-9286-f2a39eb55fc6"
      },
      "execution_count": 1,
      "outputs": [
        {
          "output_type": "stream",
          "name": "stdout",
          "text": [
            "Enter a number: 123456789\n",
            "The reverse of 123456789 is 987654321\n"
          ]
        }
      ]
    },
    {
      "cell_type": "code",
      "source": [
        "def swap_first_last(s):\n",
        "    if len(s) < 2:\n",
        "        return s  # No need to swap if string is too short\n",
        "    return s[-1] + s[1:-1] + s[0]\n",
        "\n",
        "# Taking input from the user\n",
        "string = input(\"Enter a string: \")\n",
        "swapped_string = swap_first_last(string)\n",
        "\n",
        "print(f\"String after swapping first and last characters: {swapped_string}\")"
      ],
      "metadata": {
        "colab": {
          "base_uri": "https://localhost:8080/"
        },
        "id": "l8BAq6Dm7ArS",
        "outputId": "f3c70554-e64a-485a-f71c-46ef37030d1e"
      },
      "execution_count": 4,
      "outputs": [
        {
          "output_type": "stream",
          "name": "stdout",
          "text": [
            "Enter a string: Swap\n",
            "String after swapping first and last characters: pwaS\n"
          ]
        }
      ]
    }
  ]
}