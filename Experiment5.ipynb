{
  "nbformat": 4,
  "nbformat_minor": 0,
  "metadata": {
    "colab": {
      "provenance": [],
      "authorship_tag": "ABX9TyOCnxbCQrKEieipdt1JyVEr",
      "include_colab_link": true
    },
    "kernelspec": {
      "name": "python3",
      "display_name": "Python 3"
    },
    "language_info": {
      "name": "python"
    }
  },
  "cells": [
    {
      "cell_type": "markdown",
      "metadata": {
        "id": "view-in-github",
        "colab_type": "text"
      },
      "source": [
        "<a href=\"https://colab.research.google.com/github/KuJoJot4ro/College-Python/blob/main/Experiment5.ipynb\" target=\"_parent\"><img src=\"https://colab.research.google.com/assets/colab-badge.svg\" alt=\"Open In Colab\"/></a>"
      ]
    },
    {
      "cell_type": "markdown",
      "source": [
        "# **1. Write a program to perform the following operation on tuples. Create Tuple, Access Tuple, Update Tuple, Delete Tuple.**"
      ],
      "metadata": {
        "id": "x0zx-iVv5ooy"
      }
    },
    {
      "cell_type": "code",
      "execution_count": null,
      "metadata": {
        "colab": {
          "base_uri": "https://localhost:8080/"
        },
        "collapsed": true,
        "id": "X3QbsBxAyOcm",
        "outputId": "d66e7ff7-7578-4eef-d973-efa1822892ee"
      },
      "outputs": [
        {
          "output_type": "stream",
          "name": "stdout",
          "text": [
            "Tuple: (10, 20, 30)\n",
            "First element: 10\n",
            "Updated Tuple: (10, 20, 30, 40)\n",
            "Tuple deleted.\n"
          ]
        }
      ],
      "source": [
        "my_tuple = (10, 20, 30)\n",
        "print(\"Tuple:\", my_tuple)\n",
        "print(\"First element:\", my_tuple[0])\n",
        "temp_list = list(my_tuple)\n",
        "temp_list.append(40)\n",
        "my_tuple = tuple(temp_list)\n",
        "print(\"Updated Tuple:\", my_tuple)\n",
        "del my_tuple\n",
        "print(\"Tuple deleted.\")"
      ]
    },
    {
      "cell_type": "markdown",
      "source": [
        "# **2. Write a Python program to find repeated items of a tuple.**"
      ],
      "metadata": {
        "id": "SwOti0BE5otC"
      }
    },
    {
      "cell_type": "code",
      "source": [
        "my_tuple = (10, 20, 30, 10, 40, 20, 50, 10)\n",
        "repeated_items = set([item for item in my_tuple if my_tuple.count(item) > 1])\n",
        "print(\"Repeated items:\", repeated_items)"
      ],
      "metadata": {
        "colab": {
          "base_uri": "https://localhost:8080/"
        },
        "collapsed": true,
        "id": "BY0YF4Hx3ksb",
        "outputId": "4c7ef410-0967-4063-bf98-d3d62ea5e5e0"
      },
      "execution_count": null,
      "outputs": [
        {
          "output_type": "stream",
          "name": "stdout",
          "text": [
            "Repeated items: {10, 20}\n"
          ]
        }
      ]
    },
    {
      "cell_type": "markdown",
      "source": [
        "# **3. Create a Tuple and find the minimum and maximum number from it.**"
      ],
      "metadata": {
        "id": "9raELhg65oya"
      }
    },
    {
      "cell_type": "code",
      "source": [
        "my_tuple = (10, 25, 5, 40, 15)\n",
        "min_value = min(my_tuple)\n",
        "max_value = max(my_tuple)\n",
        "print(\"Tuple:\", my_tuple)\n",
        "print(\"Minimum number:\", min_value)\n",
        "print(\"Maximum number:\", max_value)"
      ],
      "metadata": {
        "colab": {
          "base_uri": "https://localhost:8080/"
        },
        "collapsed": true,
        "id": "Gire3i5U44Of",
        "outputId": "d3537f6a-f0e3-4428-8a85-830489a6b8b3"
      },
      "execution_count": null,
      "outputs": [
        {
          "output_type": "stream",
          "name": "stdout",
          "text": [
            "Tuple: (10, 25, 5, 40, 15)\n",
            "Minimum number: 5\n",
            "Maximum number: 40\n"
          ]
        }
      ]
    },
    {
      "cell_type": "markdown",
      "source": [
        "# **7. Check whether an element exists within a tuple.**"
      ],
      "metadata": {
        "id": "mGwGgl3D-esT"
      }
    },
    {
      "cell_type": "code",
      "source": [
        "my_tuple = (10, 20, 30, 40, 50)\n",
        "item = 30\n",
        "if item in my_tuple:\n",
        "    print(f\"{item} exists in the tuple.\")\n",
        "else:\n",
        "    print(f\"{item} does not exist in the tuple.\")"
      ],
      "metadata": {
        "colab": {
          "base_uri": "https://localhost:8080/"
        },
        "id": "kdibAtFI-tiv",
        "outputId": "dadb4b93-c586-4150-c576-138a1a1700ed"
      },
      "execution_count": null,
      "outputs": [
        {
          "output_type": "stream",
          "name": "stdout",
          "text": [
            "30 exists in the tuple.\n"
          ]
        }
      ]
    },
    {
      "cell_type": "markdown",
      "source": [],
      "metadata": {
        "id": "iufckdjQ_Uju"
      }
    }
  ]
}